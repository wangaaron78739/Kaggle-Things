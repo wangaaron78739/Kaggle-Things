{
 "cells": [
  {
   "cell_type": "code",
   "execution_count": 2,
   "metadata": {
    "collapsed": false
   },
   "outputs": [
    {
     "name": "stdout",
     "output_type": "stream",
     "text": [
      "LR: 0.687137 (0.056694)\n",
      "LDA: 0.692731 (0.053979)\n",
      "KNN: 0.660640 (0.124114)\n",
      "CART: 0.701827 (0.068486)\n",
      "NB: 0.663672 (0.068021)\n",
      "SVM: 0.706290 (0.075237)\n"
     ]
    }
   ],
   "source": [
    "# Compare Algorithms\n",
    "from pandas import read_csv\n",
    "from matplotlib import pyplot\n",
    "import numpy as np\n",
    "from sklearn.model_selection import KFold\n",
    "from sklearn.model_selection import cross_val_score\n",
    "from sklearn.linear_model import LogisticRegression\n",
    "from sklearn.tree import DecisionTreeClassifier\n",
    "from sklearn.neighbors import KNeighborsClassifier\n",
    "from sklearn.discriminant_analysis import LinearDiscriminantAnalysis\n",
    "from sklearn.naive_bayes import GaussianNB\n",
    "from sklearn.svm import SVC\n",
    "# load data\"set\n",
    "filename = \"train.csv\"\n",
    "names = [\"PassId\",\"Survived\", \"Pclass\", \"Name\", \"Sex\", \"Age\", \"SibSp\", \"Parch\", \"Ticket\", \"Fare\", \"Cabin\", \"Embarked\"]\n",
    "dataframe = read_csv(filename, names=names, dtype={\"\":np.int32}, header=0, \\\n",
    "    usecols = [\"Survived\", \"Pclass\",\"SibSp\", \"Parch\"])\n",
    "array = dataframe.values\n",
    "#, \"Sex\"  , \"Age\"  , converters = {\"Sex\":lambda x: 1 if x == \"male\" else 0}\n",
    "X = array[:,1:]\n",
    "Y = array[:,0]\n",
    "# prepare models\n",
    "models = []\n",
    "models.append((\"LR\", LogisticRegression()))\n",
    "models.append((\"LDA\", LinearDiscriminantAnalysis()))\n",
    "models.append((\"KNN\", KNeighborsClassifier()))\n",
    "models.append((\"CART\", DecisionTreeClassifier()))\n",
    "models.append((\"NB\", GaussianNB()))\n",
    "models.append((\"SVM\", SVC()))\n",
    "# evaluate each model in turn\n",
    "results = []\n",
    "names = []\n",
    "scoring = \"accuracy\"\n",
    "for name, model in models:\n",
    "  kfold = KFold(n_splits=15, random_state=7)\n",
    "  cv_results = cross_val_score(model, X, Y, cv=kfold, scoring=scoring)\n",
    "  results.append(cv_results)                                                    \n",
    "  names.append(name)\n",
    "  msg = \"%s: %f (%f)\" % (name, cv_results.mean(), cv_results.std())\n",
    "  print(msg)"
   ]
  },
  {
   "cell_type": "code",
   "execution_count": 3,
   "metadata": {
    "collapsed": false
   },
   "outputs": [
    {
     "name": "stdout",
     "output_type": "stream",
     "text": [
      "0.7083021223470662\n"
     ]
    }
   ],
   "source": [
    "# Stochastic Gradient Boosting Classification\n",
    "from pandas import read_csv\n",
    "from sklearn.model_selection import KFold\n",
    "from sklearn.model_selection import cross_val_score\n",
    "from sklearn.ensemble import GradientBoostingClassifier\n",
    "from pickle import dump\n",
    "from pickle import load\n",
    "# load data\"set\n",
    "filename = \"train.csv\"\n",
    "names = [\"PassId\",\"Survived\", \"Pclass\", \"Name\", \"Sex\", \"Age\", \"SibSp\", \"Parch\", \"Ticket\", \"Fare\", \"Cabin\", \"Embarked\"]\n",
    "dataframe = read_csv(filename, names=names, dtype={\"\":np.int32}, header=0, \\\n",
    "    usecols = [\"Survived\", \"Pclass\",\"SibSp\", \"Parch\"])\n",
    "array = dataframe.values\n",
    "#, \"Sex\"  , converters = {\"Sex\":lambda x: 1 if x == \"male\" else 0}\n",
    "X = array[:,1:]\n",
    "Y = array[:,0]\n",
    "seed = 7\n",
    "num_trees = 100\n",
    "kfold = KFold(n_splits=10, random_state=seed)\n",
    "model = GradientBoostingClassifier(n_estimators=num_trees, random_state=seed) \n",
    "\n",
    "filename =  \"finalized_model.csv\"\n",
    "dump(model, open(filename,\"wb\"))\n",
    "loaded_model = load(open(filename,\"rb\"))\n",
    "\n",
    "results = cross_val_score(loaded_model, X, Y, cv=kfold)\n",
    "print(results.mean())"
   ]
  },
  {
   "cell_type": "code",
   "execution_count": 5,
   "metadata": {
    "collapsed": false
   },
   "outputs": [],
   "source": [
    "import pandas\n",
    "from pandas import read_csv\n",
    "from sklearn.model_selection import KFold\n",
    "from sklearn.model_selection import cross_val_score\n",
    "from sklearn.svm import SVC\n",
    "filename = \"train.csv\"\n",
    "names = [\"PassId\",\"Survived\", \"Pclass\", \"Name\", \"Sex\", \"Age\", \"SibSp\", \"Parch\", \"Ticket\", \"Fare\", \"Cabin\", \"Embarked\"]\n",
    "dataframe = read_csv(filename, names=names, dtype={\"\":np.int32}, header=0, \\\n",
    "    usecols = [\"Survived\", \"Pclass\",\"SibSp\", \"Parch\"])\n",
    "array = dataframe.values\n",
    "#, \"Sex\"  , converters = {\"Sex\":lambda x: 1 if x == \"male\" else 0}\n",
    "X = array[:,1:]\n",
    "Y = array[:,0]\n",
    "kfold = KFold(n_splits=10, random_state=7)\n",
    "model = SVC()\n",
    "results = cross_val_score(model, X, Y, cv=kfold)\n",
    "model.fit(X,Y)\n",
    "\n",
    "filename =  \"finalized_model.csv\"\n",
    "dump(model, open(filename,\"wb\"))\n",
    "loaded_model = load(open(filename,\"rb\"))\n",
    "filename2 = \"test_Class_Sib_Parch.csv\"\n",
    "names = [\"PassId\",\"Pclass\",\"SibSp\", \"Parch\"]\n",
    "dataframe = read_csv(filename2, names=names, header=0)\n",
    "array = dataframe.values\n",
    "X = array[:,1:]\n",
    "predictions = loaded_model.predict(X)\n",
    "prediction = pandas.DataFrame(predictions, columns=['Survived'])#.to_csv('prediction.csv')\n",
    "filename3 = \"submissionTemplate.csv\"\n",
    "subDf = read_csv(filename3)\n",
    "subDf['Survived'] = prediction['Survived']\n",
    "subDf.to_csv(\"submission.csv\")"
   ]
  }
 ],
 "metadata": {
  "kernelspec": {
   "display_name": "Python 3",
   "language": "python",
   "name": "python3"
  },
  "language_info": {
   "codemirror_mode": {
    "name": "ipython",
    "version": 3
   },
   "file_extension": ".py",
   "mimetype": "text/x-python",
   "name": "python",
   "nbconvert_exporter": "python",
   "pygments_lexer": "ipython3",
   "version": "3.5.2"
  }
 },
 "nbformat": 4,
 "nbformat_minor": 0
}
